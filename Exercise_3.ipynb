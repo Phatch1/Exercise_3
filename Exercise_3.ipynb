{
  "nbformat": 4,
  "nbformat_minor": 0,
  "metadata": {
    "colab": {
      "name": "Exercise 3.ipynb",
      "provenance": []
    },
    "kernelspec": {
      "name": "python3",
      "display_name": "Python 3"
    },
    "language_info": {
      "name": "python"
    }
  },
  "cells": [
    {
      "cell_type": "code",
      "source": [
        "import numpy as np\n",
        "\n",
        "def gradient_descent(gradient, start, learn_rate, n_iter):\n",
        "  vector = start\n",
        "  for _ in range(n_iter):\n",
        "    diff = -learn_rate * gradient(vector)\n",
        "    vector += diff\n",
        "  return vector\n",
        "\n",
        "gradient_descent(lambda x : 5*(np.sin(x/2)),-2.5,0.01,50)"
      ],
      "metadata": {
        "colab": {
          "base_uri": "https://localhost:8080/",
          "height": 0
        },
        "id": "ipDbEA99ybGg",
        "outputId": "38502101-a792-4bec-865f-0f60cb49b040"
      },
      "execution_count": 2,
      "outputs": [
        {
          "output_type": "execute_result",
          "data": {
            "text/plain": [
              "-0.8066423154808318"
            ]
          },
          "metadata": {},
          "execution_count": 2
        }
      ]
    },
    {
      "cell_type": "code",
      "source": [
        "import numpy as np \n",
        "import matplotlib.pyplot as plt\n",
        "\n",
        "def f(x):\n",
        "  return 5*np.sin(x/2)\n",
        "x = np.linspace(-5,-2,50)\n",
        "\n",
        "arr = []\n",
        "def gradient_descent(gradient, start, learn_rate, n_iter):\n",
        "  vector = start\n",
        "  for _ in range(n_iter):\n",
        "    diff = -learn_rate * gradient(vector)\n",
        "    vector += diff\n",
        "    arr.append(vector)\n",
        "    #print(vector)\n",
        "    #print(arr)\n",
        "  plt.plot(arr,'ro-')\n",
        "  plt.plot(f(x))\n",
        "  plt.grid()\n",
        "  return vector\n",
        "\n",
        "\n",
        "#plt.plot(f(x),'-or')\n",
        "gradient_descent(lambda x : 5*np.sin(x/2),-2.5,0.01,50)\n",
        "\n",
        "\n",
        "\n",
        "\n",
        "\n",
        "\n",
        "\n",
        "\n",
        "\n",
        "\n",
        "\n",
        "\n",
        "\n",
        "\n",
        "\n",
        "\n"
      ],
      "metadata": {
        "colab": {
          "base_uri": "https://localhost:8080/",
          "height": 282
        },
        "id": "Lqn_A5btyfHX",
        "outputId": "21e8a85d-5286-48fb-be3c-636ecc7be897"
      },
      "execution_count": 3,
      "outputs": [
        {
          "output_type": "execute_result",
          "data": {
            "text/plain": [
              "-0.8066423154808318"
            ]
          },
          "metadata": {},
          "execution_count": 3
        },
        {
          "output_type": "display_data",
          "data": {
            "text/plain": [
              "<Figure size 432x288 with 1 Axes>"
            ],
            "image/png": "[encoded data removed]"
          },
          "metadata": {
            "needs_background": "light"
          }
        }
      ]
    },
    {
      "cell_type": "code",
      "execution_count": 4,
      "metadata": {
        "colab": {
          "base_uri": "https://localhost:8080/",
          "height": 282
        },
        "id": "Y3K6yk2Jvtx4",
        "outputId": "0f3194af-13f1-44e0-a51e-ae97fd1be78b"
      },
      "outputs": [
        {
          "output_type": "stream",
          "name": "stdout",
          "text": [
            "minima of f(x) = -2.797370839708946\n"
          ]
        },
        {
          "output_type": "display_data",
          "data": {
            "text/plain": [
              "<Figure size 432x288 with 1 Axes>"
            ],
            "image/png": "[encoded data removed]"
          },
          "metadata": {
            "needs_background": "light"
          }
        }
      ],
      "source": [
        "import numpy as np\n",
        "import matplotlib.pyplot as plt\n",
        "xresult=[]\n",
        "yresult=[]\n",
        "y=[]\n",
        "\n",
        "def g(x):\n",
        "  return 5*np.sin(x/2)\n",
        "\n",
        "def gradient_descent(gradient, start, learn_rate, n_iter=50, tolerance=1e-06):\n",
        "  vector = start\n",
        "  for _ in range(n_iter):\n",
        "    diff = -learn_rate * gradient(vector)\n",
        "    # print(vector)\n",
        "    xresult.append(vector)\n",
        "    if np.all(np.abs(diff) <= tolerance):\n",
        "      break\n",
        "    vector += diff\n",
        "  return vector\n",
        "\n",
        "x0=gradient_descent(gradient=lambda v: 5/2*np.cos(v/2), start=-2.5, learn_rate=0.01,n_iter=50)\n",
        "x = np.linspace(-5,-2,300)\n",
        "for i in range(300):\n",
        "  y.append(g(x[i]))\n",
        "for j in range(len(xresult)):\n",
        "  yresult.append(g(xresult[j]))\n",
        "print('minima of f(x) =',x0)\n",
        "plt.plot(x,y)\n",
        "plt.plot(xresult,yresult,'red',marker = 'o')\n",
        "plt.show()"
      ]
    }
  ]
}